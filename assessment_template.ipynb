{
  "nbformat": 4,
  "nbformat_minor": 0,
  "metadata": {
    "colab": {
      "name": "assessment_template.ipynb",
      "provenance": [],
      "collapsed_sections": [],
      "include_colab_link": true
    },
    "kernelspec": {
      "name": "python3",
      "display_name": "Python 3"
    }
  },
  "cells": [
    {
      "cell_type": "markdown",
      "metadata": {
        "id": "view-in-github",
        "colab_type": "text"
      },
      "source": [
        "<a href=\"https://colab.research.google.com/github/mentorskool/experiments/blob/master/assessment_template.ipynb\" target=\"_parent\"><img src=\"https://colab.research.google.com/assets/colab-badge.svg\" alt=\"Open In Colab\"/></a>"
      ]
    },
    {
      "cell_type": "code",
      "metadata": {
        "id": "QTSsCznS1ef9",
        "colab_type": "code",
        "outputId": "94a2bf5f-ff77-4bf0-ba2e-9b784f30bca3",
        "cellView": "form",
        "colab": {
          "base_uri": "https://localhost:8080/",
          "height": 58
        }
      },
      "source": [
        "#@title \n",
        "%%html\n",
        "<marquee style='width: 100%; color: #4788f4;font-size:30px;'><b>Welcome to Mentorskool!</b></marquee>"
      ],
      "execution_count": 0,
      "outputs": [
        {
          "output_type": "display_data",
          "data": {
            "text/html": [
              "<marquee style='width: 100%; color: #4788f4;font-size:30px;'><b>Welcome to Mentorskool!</b></marquee>"
            ],
            "text/plain": [
              "<IPython.core.display.HTML object>"
            ]
          },
          "metadata": {
            "tags": []
          }
        }
      ]
    },
    {
      "cell_type": "markdown",
      "metadata": {
        "id": "69ivq1jQk6aF",
        "colab_type": "text"
      },
      "source": [
        "## **01. Before you begin**\n",
        "---------------"
      ]
    },
    {
      "cell_type": "code",
      "metadata": {
        "id": "AoRnVvtZAvDj",
        "colab_type": "code",
        "colab": {}
      },
      "source": [
        "# Execute the code below to record your start time!\n",
        "\n",
        "import time;\n",
        "start_time = time.time()"
      ],
      "execution_count": 0,
      "outputs": []
    },
    {
      "cell_type": "markdown",
      "metadata": {
        "id": "nPPR2W7RglKK",
        "colab_type": "text"
      },
      "source": [
        "## **02. Problem Statement**\n",
        "---------------\n",
        "\n"
      ]
    },
    {
      "cell_type": "markdown",
      "metadata": {
        "id": "Pe7BPguhS8eq",
        "colab_type": "text"
      },
      "source": [
        "## **03. Reference datasets/files**\n",
        "----------------\n",
        "You will require below datasets/files to answer questions which follow\n",
        "1. airline-performance.csv : [Here](https://raw.githubusercontent.com/mentorskool/assessments/master/airline-performance.csv)\n",
        "2. air-carrier-details.csv : [Here](https://raw.githubusercontent.com/mentorskool/assessments/master/air-carrier-details.csv)"
      ]
    },
    {
      "cell_type": "markdown",
      "metadata": {
        "id": "I18Y4A1HgG0H",
        "colab_type": "text"
      },
      "source": [
        "## **04. Questions**\n",
        "---------------"
      ]
    },
    {
      "cell_type": "markdown",
      "metadata": {
        "id": "T7shErJogQ4o",
        "colab_type": "text"
      },
      "source": [
        "#### **Question 1 (5 points)**\n",
        "* Type your question here"
      ]
    },
    {
      "cell_type": "code",
      "metadata": {
        "id": "ur4wnOSnVmbV",
        "colab_type": "code",
        "cellView": "form",
        "colab": {}
      },
      "source": [
        "Q1_Score =  0#@param {type:\"integer\"}"
      ],
      "execution_count": 0,
      "outputs": []
    },
    {
      "cell_type": "code",
      "metadata": {
        "colab_type": "code",
        "id": "QLKV1ni-Ve8N",
        "colab": {}
      },
      "source": [
        "## Type your code here\n"
      ],
      "execution_count": 0,
      "outputs": []
    },
    {
      "cell_type": "markdown",
      "metadata": {
        "id": "NNovx0_2IabL",
        "colab_type": "text"
      },
      "source": [
        "**Answer:**\n",
        "* Type your answer here"
      ]
    },
    {
      "cell_type": "markdown",
      "metadata": {
        "id": "cslipgEMIk27",
        "colab_type": "text"
      },
      "source": [
        "#### **Question 2 (5 points)**\n",
        "* Type your question here"
      ]
    },
    {
      "cell_type": "code",
      "metadata": {
        "id": "1GRP4aluPK69",
        "colab_type": "code",
        "cellView": "form",
        "colab": {}
      },
      "source": [
        "Q2_Score =  0#@param {type:\"integer\"}"
      ],
      "execution_count": 0,
      "outputs": []
    },
    {
      "cell_type": "code",
      "metadata": {
        "id": "rnHnDaa3evJ0",
        "colab_type": "code",
        "cellView": "form",
        "outputId": "567dca76-f156-49ee-88ce-e37070c29ba6",
        "colab": {
          "base_uri": "https://localhost:8080/",
          "height": 1000
        }
      },
      "source": [
        "#@title Test your SQL skills\n",
        "from IPython.display import HTML\n",
        "HTML(\n",
        "\"\"\"\n",
        "<iframe src=\"https://docs.google.com/forms/d/e/1FAIpQLScqgZ45T42XGluXAGysm9OMl4c-sZHmvxXP2syIHR46c9HZXw/viewform?embedded=true\"\n",
        " width=\"1000\" \n",
        " height=\"3560\" \n",
        " frameborder=\"0\"\n",
        "  marginheight=\"0\" \n",
        "  marginwidth=\"0\">Loading…\n",
        "</iframe>\n",
        "\"\"\"\n",
        ")"
      ],
      "execution_count": 0,
      "outputs": [
        {
          "output_type": "execute_result",
          "data": {
            "text/html": [
              "\n",
              "<iframe src=\"https://docs.google.com/forms/d/e/1FAIpQLScqgZ45T42XGluXAGysm9OMl4c-sZHmvxXP2syIHR46c9HZXw/viewform?embedded=true\"\n",
              " width=\"1000\" \n",
              " height=\"3560\" \n",
              " frameborder=\"0\"\n",
              "  marginheight=\"0\" \n",
              "  marginwidth=\"0\">Loading…\n",
              "</iframe>\n"
            ],
            "text/plain": [
              "<IPython.core.display.HTML object>"
            ]
          },
          "metadata": {
            "tags": []
          },
          "execution_count": 2
        }
      ]
    },
    {
      "cell_type": "code",
      "metadata": {
        "id": "rgjUOAx1giNL",
        "colab_type": "code",
        "outputId": "663fcfa5-f90d-47f1-baf3-51cdd77cbc8e",
        "colab": {
          "base_uri": "https://localhost:8080/",
          "height": 35
        }
      },
      "source": [
        "final_score = Q1_Score + Q2_Score + Q3_Score + Q4_Score + Q5_Score + Q6_Score + Q7_Score + Q8_Score + Q9_Score + Q10_Score + Q11_Score + Q12_Score \n",
        "\n",
        "print(\"Your final score is %d out of 100\"%(final_score))"
      ],
      "execution_count": 0,
      "outputs": [
        {
          "output_type": "stream",
          "text": [
            "Your final score is 76 out of 100\n"
          ],
          "name": "stdout"
        }
      ]
    },
    {
      "cell_type": "markdown",
      "metadata": {
        "id": "hAlh0mlhlHus",
        "colab_type": "text"
      },
      "source": [
        "## **05. Before you exit**\n",
        "---------------"
      ]
    },
    {
      "cell_type": "code",
      "metadata": {
        "id": "SGinRY-uA7rc",
        "colab_type": "code",
        "colab": {}
      },
      "source": [
        "# Execute the code below to record your end time\n",
        "\n",
        "import time;\n",
        "end_time = time.time()"
      ],
      "execution_count": 0,
      "outputs": []
    },
    {
      "cell_type": "code",
      "metadata": {
        "id": "KovY4DYnBEVr",
        "colab_type": "code",
        "outputId": "7644b657-312c-49e3-c1ab-ce8708ba894b",
        "colab": {
          "base_uri": "https://localhost:8080/",
          "height": 34
        }
      },
      "source": [
        "# Execute the code below to record your test duration\n",
        "print(end_time - start_time)"
      ],
      "execution_count": 0,
      "outputs": [
        {
          "output_type": "stream",
          "text": [
            "2907.952573776245\n"
          ],
          "name": "stdout"
        }
      ]
    }
  ]
}